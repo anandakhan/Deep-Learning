{
 "cells": [
  {
   "cell_type": "code",
   "execution_count": 1,
   "id": "b232d607",
   "metadata": {},
   "outputs": [],
   "source": [
    "import numpy as np\n",
    "from tensorflow.keras.preprocessing.text import one_hot\n",
    "from tensorflow.keras.preprocessing.sequence import pad_sequences\n",
    "from tensorflow.keras.models import Sequential\n",
    "from tensorflow.keras.layers import Dense\n",
    "from tensorflow.keras.layers import Flatten\n",
    "from tensorflow.keras.layers import Embedding\n",
    "\n",
    "reviews = ['nice food',\n",
    "        'amazing restaurant',\n",
    "        'too good',\n",
    "        'just loved it!',\n",
    "        'will go again',\n",
    "        'horrible food',\n",
    "        'never go there',\n",
    "        'poor service',\n",
    "        'poor quality',\n",
    "        'needs improvement']\n",
    "\n",
    "sentiment = np.array([1,1,1,1,1,0,0,0,0,0])"
   ]
  },
  {
   "cell_type": "code",
   "execution_count": 2,
   "id": "8be1c67d",
   "metadata": {},
   "outputs": [
    {
     "data": {
      "text/plain": [
       "[11, 21]"
      ]
     },
     "execution_count": 2,
     "metadata": {},
     "output_type": "execute_result"
    }
   ],
   "source": [
    "one_hot(\"amazing restaurant\",30)"
   ]
  },
  {
   "cell_type": "code",
   "execution_count": 3,
   "id": "c07314e7",
   "metadata": {},
   "outputs": [
    {
     "name": "stdout",
     "output_type": "stream",
     "text": [
      "[[22, 16], [11, 21], [28, 29], [20, 24, 4], [3, 29, 9], [3, 16], [6, 29, 2], [7, 14], [7, 29], [16, 29]]\n"
     ]
    }
   ],
   "source": [
    "vocab_size = 30\n",
    "encoded_reviews = [one_hot(d, vocab_size) for d in reviews]\n",
    "print(encoded_reviews)"
   ]
  },
  {
   "cell_type": "code",
   "execution_count": 4,
   "id": "0df28259",
   "metadata": {},
   "outputs": [
    {
     "name": "stdout",
     "output_type": "stream",
     "text": [
      "[[22 16  0]\n",
      " [11 21  0]\n",
      " [28 29  0]\n",
      " [20 24  4]\n",
      " [ 3 29  9]\n",
      " [ 3 16  0]\n",
      " [ 6 29  2]\n",
      " [ 7 14  0]\n",
      " [ 7 29  0]\n",
      " [16 29  0]]\n"
     ]
    }
   ],
   "source": [
    "max_length = 3\n",
    "padded_reviews = pad_sequences(encoded_reviews, maxlen=max_length, padding='post')\n",
    "print(padded_reviews)"
   ]
  },
  {
   "cell_type": "code",
   "execution_count": 5,
   "id": "b2541e5c",
   "metadata": {},
   "outputs": [],
   "source": [
    "embeded_vector_size = 4\n",
    "\n",
    "model = Sequential()\n",
    "model.add(Embedding(vocab_size, embeded_vector_size, input_length=max_length,name=\"embedding\"))\n",
    "model.add(Flatten())\n",
    "model.add(Dense(1, activation='sigmoid'))"
   ]
  },
  {
   "cell_type": "code",
   "execution_count": 6,
   "id": "6b25acad",
   "metadata": {},
   "outputs": [],
   "source": [
    "X = padded_reviews\n",
    "y = sentiment"
   ]
  },
  {
   "cell_type": "code",
   "execution_count": 8,
   "id": "25e9b22d",
   "metadata": {},
   "outputs": [
    {
     "name": "stdout",
     "output_type": "stream",
     "text": [
      "Model: \"sequential\"\n",
      "_________________________________________________________________\n",
      " Layer (type)                Output Shape              Param #   \n",
      "=================================================================\n",
      " embedding (Embedding)       (None, 3, 4)              120       \n",
      "                                                                 \n",
      " flatten (Flatten)           (None, 12)                0         \n",
      "                                                                 \n",
      " dense (Dense)               (None, 1)                 13        \n",
      "                                                                 \n",
      "=================================================================\n",
      "Total params: 133\n",
      "Trainable params: 133\n",
      "Non-trainable params: 0\n",
      "_________________________________________________________________\n",
      "None\n"
     ]
    }
   ],
   "source": [
    "model.compile(optimizer='adam', loss='binary_crossentropy', metrics=['accuracy'])\n",
    "print(model.summary())"
   ]
  },
  {
   "cell_type": "code",
   "execution_count": 9,
   "id": "8e0da6c3",
   "metadata": {},
   "outputs": [
    {
     "data": {
      "text/plain": [
       "<keras.callbacks.History at 0x1ba26cfb070>"
      ]
     },
     "execution_count": 9,
     "metadata": {},
     "output_type": "execute_result"
    }
   ],
   "source": [
    "model.fit(X, y, epochs=50, verbose=0)"
   ]
  },
  {
   "cell_type": "code",
   "execution_count": 10,
   "id": "9072ad30",
   "metadata": {},
   "outputs": [
    {
     "name": "stdout",
     "output_type": "stream",
     "text": [
      "1/1 [==============================] - 0s 117ms/step - loss: 0.6268 - accuracy: 1.0000\n"
     ]
    },
    {
     "data": {
      "text/plain": [
       "1.0"
      ]
     },
     "execution_count": 10,
     "metadata": {},
     "output_type": "execute_result"
    }
   ],
   "source": [
    "# evaluate the model\n",
    "loss, accuracy = model.evaluate(X, y)\n",
    "accuracy"
   ]
  },
  {
   "cell_type": "code",
   "execution_count": 18,
   "id": "eb9dc200",
   "metadata": {},
   "outputs": [
    {
     "data": {
      "text/plain": [
       "array([[ 0.06885232, -0.01106692, -0.06994578, -0.01025304],\n",
       "       [-0.01837505,  0.04158317,  0.04448858,  0.00698918],\n",
       "       [ 0.04965889, -0.04171439, -0.07151355, -0.00318159],\n",
       "       [ 0.02116635, -0.01369729, -0.01296804,  0.00978241],\n",
       "       [-0.07469328,  0.0998361 ,  0.03259601,  0.09611519],\n",
       "       [-0.0250455 ,  0.03077556,  0.02922552,  0.01568221],\n",
       "       [ 0.08493208,  0.01008808, -0.07394355, -0.03955924],\n",
       "       [ 0.01054302,  0.02699385, -0.04467751, -0.04684579],\n",
       "       [ 0.04756114,  0.04600174,  0.0335398 ,  0.03625501],\n",
       "       [-0.07780313,  0.05832656,  0.08672373,  0.03536027],\n",
       "       [ 0.03883237,  0.00759583,  0.03467331,  0.0459266 ],\n",
       "       [-0.05989338, -0.03059751,  0.03401687,  0.00451967],\n",
       "       [-0.03683208, -0.03173459, -0.01741862,  0.00261777],\n",
       "       [ 0.04060921, -0.01889566,  0.00034707, -0.01699131],\n",
       "       [-0.07601276, -0.04964753, -0.07258041, -0.01696463],\n",
       "       [-0.00317914, -0.02842761, -0.00929571,  0.01289442],\n",
       "       [ 0.05190332,  0.02657304, -0.08124518, -0.06768317],\n",
       "       [ 0.01211411,  0.00239506, -0.00210584, -0.02238797],\n",
       "       [ 0.03540668, -0.01796491,  0.04604593,  0.02605933],\n",
       "       [ 0.02868168,  0.00821428,  0.01801119,  0.02176401],\n",
       "       [-0.02358334, -0.01849501,  0.00182878,  0.00448103],\n",
       "       [ 0.06795162,  0.02460134,  0.0570428 ,  0.07991321],\n",
       "       [-0.07259389, -0.06743771,  0.07530884,  0.09123471],\n",
       "       [ 0.03614464,  0.02861347,  0.01344912,  0.0417015 ],\n",
       "       [ 0.02343978,  0.00322793,  0.04010517,  0.09442862],\n",
       "       [ 0.00757074, -0.02996285, -0.0005182 , -0.01106709],\n",
       "       [-0.01158272, -0.00079471,  0.03115052,  0.04381842],\n",
       "       [-0.02645389, -0.04925555, -0.02954687,  0.0327091 ],\n",
       "       [-0.02028981, -0.05268973,  0.08025755,  0.08060846],\n",
       "       [-0.04780079, -0.02449379, -0.03044198, -0.02567968]],\n",
       "      dtype=float32)"
      ]
     },
     "execution_count": 18,
     "metadata": {},
     "output_type": "execute_result"
    }
   ],
   "source": [
    "weights = model.get_layer('embedding').get_weights()[0]\n",
    "weights\n"
   ]
  },
  {
   "cell_type": "code",
   "execution_count": 19,
   "id": "06776146",
   "metadata": {},
   "outputs": [
    {
     "data": {
      "text/plain": [
       "array([-0.07259389, -0.06743771,  0.07530884,  0.09123471], dtype=float32)"
      ]
     },
     "execution_count": 19,
     "metadata": {},
     "output_type": "execute_result"
    }
   ],
   "source": [
    "weights[22]"
   ]
  },
  {
   "cell_type": "code",
   "execution_count": 20,
   "id": "cf33d6b6",
   "metadata": {},
   "outputs": [
    {
     "data": {
      "text/plain": [
       "array([-0.05989338, -0.03059751,  0.03401687,  0.00451967], dtype=float32)"
      ]
     },
     "execution_count": 20,
     "metadata": {},
     "output_type": "execute_result"
    }
   ],
   "source": [
    "weights[11]"
   ]
  }
 ],
 "metadata": {
  "kernelspec": {
   "display_name": "Python 3 (ipykernel)",
   "language": "python",
   "name": "python3"
  },
  "language_info": {
   "codemirror_mode": {
    "name": "ipython",
    "version": 3
   },
   "file_extension": ".py",
   "mimetype": "text/x-python",
   "name": "python",
   "nbconvert_exporter": "python",
   "pygments_lexer": "ipython3",
   "version": "3.9.10"
  }
 },
 "nbformat": 4,
 "nbformat_minor": 5
}
